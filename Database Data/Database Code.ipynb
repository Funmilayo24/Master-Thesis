{
 "cells": [
  {
   "cell_type": "code",
   "execution_count": 1,
   "metadata": {},
   "outputs": [],
   "source": [
    "import json\n",
    "import re\n",
    "import requests\n",
    "import sys\n",
    "import io\n",
    "import pandas as pd\n"
   ]
  },
  {
   "cell_type": "markdown",
   "metadata": {},
   "source": [
    "## Import Neo4j\n",
    "\n",
    "auth =(username, password)"
   ]
  },
  {
   "cell_type": "code",
   "execution_count": 2,
   "metadata": {},
   "outputs": [],
   "source": [
    "from neo4j import GraphDatabase\n",
    "driver=GraphDatabase.driver(uri=\"bolt://localhost:7687\",auth=(\"neo4j\",\"a\"))\n",
    "session=driver.session()"
   ]
  },
  {
   "cell_type": "markdown",
   "metadata": {},
   "source": [
    "## Image Data Resource"
   ]
  },
  {
   "cell_type": "markdown",
   "metadata": {},
   "source": [
    "    This section uses the input file \"screenid\" that contains a list of screen IDs to get annotations from https://idr.openmicroscopy.org/"
   ]
  },
  {
   "cell_type": "code",
   "execution_count": 3,
   "metadata": {},
   "outputs": [
    {
     "name": "stdout",
     "output_type": "stream",
     "text": [
      "done\n"
     ]
    }
   ],
   "source": [
    "key1 = [] # contains the key\n",
    "value1 = [] # contains the value\n",
    "total = [] # holds the output\n",
    "\n",
    "\n",
    "def idr(inputfile):\n",
    "    IDR_BASE_URL = \"https://idr.openmicroscopy.org\"\n",
    "    INDEX_PAGE = \"%s/webclient/?experimenter=-1\" % IDR_BASE_URL\n",
    "    # create http session\n",
    "    with requests.Session() as session:\n",
    "        request = requests.Request('GET', INDEX_PAGE)\n",
    "        prepped = session.prepare_request(request)\n",
    "        response = session.send(prepped)\n",
    "        if response.status_code != 200:\n",
    "            response.raise_for_status()\n",
    "\n",
    "    MAP_URL = \"{base}/webclient/api/annotations/?type=map&{type}={screen_id}\"\n",
    "\n",
    "    with io.open(inputfile, 'r', encoding=\"utf-8\") as file_input:\n",
    "        for i in file_input.readlines():\n",
    "            qs = {'base': IDR_BASE_URL, 'type': 'screen', 'screen_id': i}\n",
    "            url = MAP_URL.format(**qs)\n",
    "            for a in session.get(url).json()['annotations']:\n",
    "                #print(\"****************************************************\")\n",
    "                namespace = a['ns']\n",
    "                for v in a['values']:\n",
    "                    key = v[0]\n",
    "                    value = v[1]\n",
    "                    r = re.sub(r'http\\S+$', \"\", value)\n",
    "                    a=r.strip()\n",
    "                    key1.append(key)\n",
    "                    value1.append(a)\n",
    "            x ={k: b for k, b in zip(key1, value1)} \n",
    "            \n",
    "            x[\"Screen_Id\"] = i.strip('\\n')\n",
    "            \n",
    "            \n",
    "            total.append(x)\n",
    "            \n",
    "     # Writing to idroutput.json\n",
    "        with open(\"idrOutput.json\", \"w\") as outfile:\n",
    "\n",
    "            outfile.write(json.dumps(total))\n",
    "            print(\"done\")\n",
    "            \n",
    "            \n",
    "          \n",
    "                                                       \n",
    "            \n",
    "\n",
    "\n",
    "\n",
    "                    \n",
    "                    \n",
    "                           \n",
    "idr(\"screenid.pmid\")"
   ]
  },
  {
   "cell_type": "markdown",
   "metadata": {},
   "source": [
    "### Create dataframe from the output"
   ]
  },
  {
   "cell_type": "code",
   "execution_count": 4,
   "metadata": {},
   "outputs": [],
   "source": [
    "df = pd.DataFrame.from_dict(total)\n"
   ]
  },
  {
   "cell_type": "markdown",
   "metadata": {},
   "source": [
    "## Pubtator "
   ]
  },
  {
   "cell_type": "markdown",
   "metadata": {},
   "source": [
    " This section uses the input file \"pubmedid\" that contains PubMed IDs to get annotations from https://www.ncbi.nlm.nih.gov/research/pubtator/"
   ]
  },
  {
   "cell_type": "code",
   "execution_count": 5,
   "metadata": {},
   "outputs": [
    {
     "name": "stdout",
     "output_type": "stream",
     "text": [
      "done\n"
     ]
    }
   ],
   "source": [
    "\n",
    "final = []\n",
    "def SubmitPMIDList(Inputfile, Format, Bioconcept):\n",
    "    json = {}\n",
    "    #\n",
    "    # load pmids\n",
    "    #\n",
    "    with io.open(Inputfile, 'r', encoding=\"utf-8\") as file_input:\n",
    "        json = {\"pmids\": [pmid.strip() for pmid in file_input.readlines()]}\n",
    "        ids1 = (json[\"pmids\"])\n",
    "        \n",
    "    #\n",
    "    # load bioconcepts\n",
    "    #\n",
    "    if Bioconcept != \"\":\n",
    "        json[\"concepts\"] = Bioconcept.split(\",\")\n",
    "\n",
    "    #\n",
    "    # request\n",
    "    #\n",
    "    r = requests.post(\"https://www.ncbi.nlm.nih.gov/research/pubtator-api/publications/export/\" + Format, json=json)\n",
    "    if r.status_code != 200:\n",
    "        print(\"[Error]: HTTP code \" + str(r.status_code))\n",
    "    else:\n",
    "        full_text=r.text\n",
    "        #print(full_text)\n",
    "        final.append(full_text)\n",
    "        \n",
    "\n",
    "        # Writing to pubtator.json\n",
    "        with open(\"pubtator.json\", \"w\") as outfile:\n",
    "            \n",
    "            outfile.write(full_text)\n",
    "            print(\"done\")\n",
    "            \n",
    "SubmitPMIDList(\"PubMedID.pmid\", \"biocjson\",\"dieases\")"
   ]
  },
  {
   "cell_type": "code",
   "execution_count": 6,
   "metadata": {},
   "outputs": [],
   "source": [
    "List1 = []\n",
    "with open('pubtator.json') as f:\n",
    "    for jsonObj in f:\n",
    "        PubTatorDict = json.loads(jsonObj)\n",
    "        List1.append(PubTatorDict)"
   ]
  },
  {
   "cell_type": "markdown",
   "metadata": {},
   "source": [
    "## Neo4j"
   ]
  },
  {
   "cell_type": "markdown",
   "metadata": {},
   "source": [
    "### For IDR"
   ]
  },
  {
   "cell_type": "code",
   "execution_count": 7,
   "metadata": {},
   "outputs": [],
   "source": [
    "for i in total: #idr\n",
    "    session.run(\"\"\"\n",
    "            MERGE (a:id {name:$name})\n",
    "            MERGE (b:organism {name:$name1})\n",
    "            MERGE (c:pubmedID {name:$name2})\n",
    "            MERGE (d:Screen_Technology_Type {name:$name3})\n",
    "            MERGE (e:Study_Type {name:$name4})\n",
    "            MERGE (f:PMCID {name:$name5})\n",
    "            MERGE (g:Screen_Type {name:$name6})\n",
    "            MERGE (h:Imaging_Method {name:$name7})\n",
    "            MERGE (l:Publication_Title {name:$name11})\n",
    "            MERGE (m:Publication_Author {name:$name12})\n",
    "            MERGE (n:Publication_DOI {name:$name13})\n",
    "            \n",
    "            MERGE (a)-[:isOrganism]->(b) \n",
    "            MERGE (a)-[:isID]->(c) \n",
    "            MERGE (a)-[:isScreenType]->(d)\n",
    "            MERGE (a)-[:isStudyType]->(e) \n",
    "            MERGE (a)-[:isPMCID]->(f) \n",
    "            MERGE (a)-[:isScreenType]->(g)\n",
    "            MERGE (a)-[:isImaging]->(h)\n",
    "            MERGE (a)-[:isID]->(l) \n",
    "            MERGE (a)-[:isAuthor]->(m)\n",
    "            MERGE (a)-[:isDoi]->(n)\n",
    "\n",
    "            \"\"\" ,name= i[\"Screen_Id\"],name1= i[\"Organism\"],name2= i[\"PubMed ID\"], \n",
    "                        name3 =i[\"Screen Technology Type\"], name4=i[\"Study Type\"], \n",
    "                        name5=i[\"PMC ID\"], name6=i[\"Screen Type\"], name7=i[\"Imaging Method\"],\n",
    "                        name11= i[\"Publication Title\"]\n",
    "                        ,name12= i[\"Publication Authors\"],name13= i[\"Publication DOI\"])"
   ]
  },
  {
   "cell_type": "markdown",
   "metadata": {},
   "source": [
    "## For Pubtator"
   ]
  },
  {
   "cell_type": "code",
   "execution_count": 8,
   "metadata": {},
   "outputs": [],
   "source": [
    "for j in List1: #pubtator\n",
    "\n",
    "        session.run(\"\"\"MERGE (i:pubid {name:$name8})\n",
    "            MERGE (j:year {name:$name9})\n",
    "            MERGE (k:author {name:$name10})\n",
    "\n",
    "            MERGE (i)-[:isyear]->(j)\n",
    "            MERGE (k)-[:isAuthor]->(j)\n",
    "            MERGE (i)-[:isID]->(k)\n",
    "\n",
    "\n",
    "            \"\"\",name8 = j[\"id\"], name9= j[\"year\"], name10 = j[\"authors\"])"
   ]
  },
  {
   "cell_type": "markdown",
   "metadata": {},
   "source": [
    "## Merge the data from pubtator and idr"
   ]
  },
  {
   "cell_type": "code",
   "execution_count": 9,
   "metadata": {},
   "outputs": [
    {
     "data": {
      "text/plain": [
       "<neo4j.work.result.Result at 0x1c77c63f148>"
      ]
     },
     "execution_count": 9,
     "metadata": {},
     "output_type": "execute_result"
    }
   ],
   "source": [
    "session.run(\"\"\"match(n:pubmedID) match(p:pubid)\n",
    "        where n.name=p.name\n",
    "        create(n)-[:connected_graph]->(p)\n",
    "        \"\"\")"
   ]
  },
  {
   "cell_type": "markdown",
   "metadata": {},
   "source": [
    "### This cypher queries are run in the Neo4j browser"
   ]
  },
  {
   "cell_type": "markdown",
   "metadata": {},
   "source": [
    "## Link Prediction"
   ]
  },
  {
   "cell_type": "markdown",
   "metadata": {},
   "source": [
    "## Common Neighbors"
   ]
  },
  {
   "cell_type": "markdown",
   "metadata": {},
   "source": [
    "match(n:pubmedID) match(p:pubid)\n",
    "\n",
    "RETURN gds.alpha.linkprediction.commonNeighbors(n, p) AS score"
   ]
  },
  {
   "cell_type": "markdown",
   "metadata": {},
   "source": [
    "## Adamic Adar"
   ]
  },
  {
   "cell_type": "markdown",
   "metadata": {},
   "source": [
    "match(n:pubmedID) match(p:pubid)\n",
    "\n",
    "RETURN gds.alpha.linkprediction.adamicAdar(n, p) AS score"
   ]
  },
  {
   "cell_type": "markdown",
   "metadata": {},
   "source": [
    "## Total Neighbor"
   ]
  },
  {
   "cell_type": "markdown",
   "metadata": {},
   "source": [
    "match(n:pubmedID) match(p:pubid)\n",
    "\n",
    "RETURN gds.alpha.linkprediction.totalNeighbors(n, p) AS score"
   ]
  },
  {
   "cell_type": "markdown",
   "metadata": {},
   "source": [
    "## Same Community"
   ]
  },
  {
   "cell_type": "markdown",
   "metadata": {},
   "source": [
    "match(n:pubmedID) match(p:pubid)\n",
    "\n",
    "RETURN gds.alpha.linkprediction.sameCommunity(n, p) AS score"
   ]
  },
  {
   "cell_type": "markdown",
   "metadata": {},
   "source": [
    "## Preferential Attachment"
   ]
  },
  {
   "cell_type": "markdown",
   "metadata": {},
   "source": [
    "match(n:pubmedID) match(p:organism)\n",
    "\n",
    "RETURN gds.alpha.linkprediction.preferentialAttachment(n, p) AS score"
   ]
  },
  {
   "cell_type": "markdown",
   "metadata": {},
   "source": [
    "## Resource Allocation"
   ]
  },
  {
   "cell_type": "markdown",
   "metadata": {},
   "source": [
    "match(n:pubmedID) match(p:organism)\n",
    "\n",
    "RETURN gds.alpha.linkprediction.resourceAllocation(n, p) AS score"
   ]
  },
  {
   "cell_type": "markdown",
   "metadata": {},
   "source": [
    "## Semantic Queries"
   ]
  },
  {
   "cell_type": "markdown",
   "metadata": {},
   "source": [
    "## Q1. How can I find image data with a given source, comparability, attributes, etc?\n",
    "\n",
    " MATCH p=()-[r:isImaging]->() RETURN p\n"
   ]
  },
  {
   "cell_type": "markdown",
   "metadata": {},
   "source": [
    "## Q2. What is the shortest path between {Entity1} and {Entity2} and what is this path?\n",
    "\n",
    "\n",
    "MATCH (n:pubmedID{name:\"25373780\"}), (m:organism {name:\"Homo sapiens\"}), p= shortestPath((n)-[*]-(m)) WHERE length(p) > 1 \n",
    "\n",
    "RETURN p\n"
   ]
  },
  {
   "cell_type": "markdown",
   "metadata": {},
   "source": [
    "## Q3. How can I search for a specific ID?\n",
    "\n",
    " match(n:pubmedID{name:\"25373780\"}) Return n\n"
   ]
  },
  {
   "cell_type": "markdown",
   "metadata": {},
   "source": [
    "## Q4. How can I get all relationships for a node with cypher?\n",
    "\n",
    " MATCH (:organism{name:\"Homo sapiens\"})-[r]-() RETURN r\n"
   ]
  },
  {
   "cell_type": "markdown",
   "metadata": {},
   "source": [
    "## Q5. How far are {Document1} and {Document2} apart?\t\n",
    "\n",
    "MATCH (n:pubmedID{name:\"25373780\"}), (m:pubmedID {name:\"24943848\"}), p= shortestPath((n)-[*]-(m)) WHERE length(p) > 1 RETURN p\n"
   ]
  },
  {
   "cell_type": "markdown",
   "metadata": {},
   "source": [
    "## Q6. How can you group and count relationship types?\n",
    "\n",
    "MATCH (n {name: '25373780'})-[r]->()\n",
    "RETURN type(r), count(*)\n"
   ]
  },
  {
   "cell_type": "markdown",
   "metadata": {},
   "source": [
    "# Community Detection"
   ]
  },
  {
   "cell_type": "markdown",
   "metadata": {},
   "source": [
    "## Louvain Algorithm"
   ]
  },
  {
   "cell_type": "markdown",
   "metadata": {},
   "source": [
    "CALL gds.louvain.write({nodeProjection: 'pubmedID', relationshipProjection: {Organism: {type: 'isOrganism', orientation: 'UNDIRECTED'}},writeProperty: \"partitionTrain"
   ]
  },
  {
   "cell_type": "markdown",
   "metadata": {},
   "source": [
    "## Label Propagation"
   ]
  },
  {
   "cell_type": "markdown",
   "metadata": {},
   "source": [
    "CALL gds.labelPropagation.write(nodeProjection: \"pubmedID\", relationshipProjection: {Organism: {type: 'isOrganism', orientation: 'UNDIRECTED'}},writeProperty: \"partitionTrain\"})"
   ]
  },
  {
   "cell_type": "markdown",
   "metadata": {},
   "source": [
    "## Weakly Connected Components"
   ]
  },
  {
   "cell_type": "markdown",
   "metadata": {},
   "source": [
    "CALL gds.wcc.write(nodeProjection: \"pubmedID\", relationshipProjection: {Organism: {type: 'isOrganism', orientation: 'UNDIRECTED'}},writeProperty: \"partitionTrain\"}"
   ]
  },
  {
   "cell_type": "markdown",
   "metadata": {},
   "source": [
    "## Triangle Count"
   ]
  },
  {
   "cell_type": "markdown",
   "metadata": {},
   "source": [
    "CALL gds.triangleCount.write(nodeProjection: \"pubmedID\", relationshipProjection: {Organism: {type: 'isOrganism', orientation: 'UNDIRECTED'}},writeProperty: \"partitionTrain\"})"
   ]
  },
  {
   "cell_type": "markdown",
   "metadata": {},
   "source": [
    "## Local Clustering Coefficient"
   ]
  },
  {
   "cell_type": "markdown",
   "metadata": {},
   "source": [
    "CALL gds.localClusteringCoefficient.write({nodeProjection: 'pubmedID',relationshipProjection: {Organism: {type: 'isOrganism',orientation: 'UNDIRECTED'}},writeProperty: 'trianglesTrain'\n",
    "})\n"
   ]
  }
 ],
 "metadata": {
  "kernelspec": {
   "display_name": "Python 3",
   "language": "python",
   "name": "python3"
  },
  "language_info": {
   "codemirror_mode": {
    "name": "ipython",
    "version": 3
   },
   "file_extension": ".py",
   "mimetype": "text/x-python",
   "name": "python",
   "nbconvert_exporter": "python",
   "pygments_lexer": "ipython3",
   "version": "3.7.6"
  }
 },
 "nbformat": 4,
 "nbformat_minor": 4
}
